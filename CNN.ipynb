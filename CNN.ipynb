{
 "cells": [
  {
   "cell_type": "code",
   "execution_count": 40,
   "metadata": {},
   "outputs": [
    {
     "name": "stdout",
     "output_type": "stream",
     "text": [
      "AlexNet(\n",
      "  (conv1): Conv2d(1, 6, kernel_size=(5, 5), stride=(1, 1))\n",
      "  (conv2): Conv2d(6, 16, kernel_size=(5, 5), stride=(1, 1))\n",
      "  (fc1): Linear(in_features=400, out_features=120, bias=True)\n",
      "  (fc2): Linear(in_features=120, out_features=84, bias=True)\n",
      "  (fc3): Linear(in_features=84, out_features=10, bias=True)\n",
      ")\n",
      "10\n",
      "torch.Size([6, 1, 5, 5])\n",
      "torch.Size([6])\n",
      "torch.Size([16, 6, 5, 5])\n",
      "torch.Size([16])\n",
      "torch.Size([120, 400])\n",
      "torch.Size([120])\n",
      "torch.Size([84, 120])\n",
      "torch.Size([84])\n",
      "torch.Size([10, 84])\n",
      "torch.Size([10])\n",
      "conv1 grad forward: \n",
      " None\n",
      "conv1 grad backward: \n",
      " tensor([ 0.0093,  0.0052,  0.0040, -0.0226, -0.0067, -0.0045])\n"
     ]
    }
   ],
   "source": [
    "import torch\n",
    "import torch.nn as nn\n",
    "import torch.optim as optim\n",
    "import torch.nn.functional as F\n",
    "#constract AlexNet\n",
    "class AlexNet(nn.Module):\n",
    "    def __init__(self):\n",
    "        #inherit nn.Module\n",
    "        super(AlexNet, self).__init__()\n",
    "        self.conv1 = nn.Conv2d(1, 6, 5)\n",
    "        self.conv2 = nn.Conv2d(6, 16, 5)\n",
    "        self.fc1 = nn.Linear(16 * 5 * 5, 120)\n",
    "        self.fc2 = nn.Linear(120, 84)\n",
    "        self.fc3 = nn.Linear(84, 10)\n",
    "    def forward(self, x):\n",
    "        in_size = x.size(0)\n",
    "        out = F.max_pool2d(F.relu(self.conv1(x)), (2, 2))\n",
    "        out = F.max_pool2d(F.relu(self.conv2(out)), 2)\n",
    "        out = out.view(in_size, -1)\n",
    "        out = F.relu(self.fc1(out))\n",
    "        out = F.relu(self.fc2(out))\n",
    "        out = self.fc3(out)\n",
    "        return out\n",
    "#instance AlexNet\n",
    "alexNet = AlexNet()\n",
    "print(alexNet)\n",
    "\n",
    "#print the layer info\n",
    "params = list(alexNet.parameters())\n",
    "print(len(params))\n",
    "for i in range(len(params)):\n",
    "    print(params[i].size())\n",
    "\n",
    "#feed data\n",
    "input = torch.rand([1, 1, 32, 32])\n",
    "target = torch.randn(10)\n",
    "target = target.view(1, -1)\n",
    "out = alexNet(input)\n",
    "\n",
    "#preview the weight\n",
    "print('conv1 grad forward: \\n', alexNet.conv1.bias.grad)\n",
    "\n",
    "#define loss\n",
    "loss = nn.MSELoss()\n",
    "loss = loss(out, target)\n",
    "#back propagation\n",
    "loss.backward()\n",
    "\n",
    "#update weight\n",
    "print('conv1 grad backward: \\n', alexNet.conv1.bias.grad)\n",
    "\n"
   ]
  }
 ],
 "metadata": {
  "kernelspec": {
   "display_name": "Python 3",
   "language": "python",
   "name": "python3"
  },
  "language_info": {
   "codemirror_mode": {
    "name": "ipython",
    "version": 3
   },
   "file_extension": ".py",
   "mimetype": "text/x-python",
   "name": "python",
   "nbconvert_exporter": "python",
   "pygments_lexer": "ipython3",
   "version": "3.6.5"
  }
 },
 "nbformat": 4,
 "nbformat_minor": 2
}
